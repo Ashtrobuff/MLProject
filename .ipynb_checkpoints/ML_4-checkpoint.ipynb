{
 "cells": [
  {
   "cell_type": "code",
   "execution_count": 1,
   "metadata": {
    "id": "9-aQJE_SA-3y"
   },
   "outputs": [],
   "source": [
    "import pandas as pd\n",
    "from sklearn.model_selection import train_test_split\n",
    "from sklearn.svm import SVC\n",
    "from sklearn.preprocessing import StandardScaler\n",
    "from sklearn.metrics import accuracy_score, classification_report, confusion_matrix,roc_curve, auc\n",
    "from sklearn.preprocessing import LabelEncoder\n",
    "from sklearn.impute import SimpleImputer\n",
    "import matplotlib.pyplot as plt\n",
    "from sklearn.metrics import roc_curve\n"
   ]
  },
  {
   "cell_type": "code",
   "execution_count": 2,
   "metadata": {
    "colab": {
     "base_uri": "https://localhost:8080/",
     "height": 287
    },
    "id": "mnq9H2gzCij2",
    "outputId": "cad8757a-e924-40fa-bae1-c43a6b0721a8"
   },
   "outputs": [],
   "source": [
    "\n",
    "data = pd.read_csv(\"Datasets/bank-direct-marketing-campaigns.csv\")\n"
   ]
  },
  {
   "cell_type": "code",
   "execution_count": 3,
   "metadata": {
    "colab": {
     "base_uri": "https://localhost:8080/",
     "height": 176
    },
    "id": "p74x6ITKFsKG",
    "outputId": "532360d1-9067-47f4-fa4f-57a558dfae70"
   },
   "outputs": [
    {
     "name": "stdout",
     "output_type": "stream",
     "text": [
      "Columns with missing values:\n",
      "Index([], dtype='object')\n"
     ]
    }
   ],
   "source": [
    "print(\"Columns with missing values:\")\n",
    "print(data.columns[data.isnull().any()])\n"
   ]
  },
  {
   "cell_type": "code",
   "execution_count": 4,
   "metadata": {
    "id": "kyc-ceeBFxkr"
   },
   "outputs": [],
   "source": [
    "data.dropna(inplace=True)"
   ]
  },
  {
   "cell_type": "code",
   "execution_count": 5,
   "metadata": {
    "colab": {
     "base_uri": "https://localhost:8080/"
    },
    "id": "tf53wOoOH7wW",
    "outputId": "82ad36e7-0e2f-4359-a3a0-faf91ad90c7f"
   },
   "outputs": [
    {
     "name": "stdout",
     "output_type": "stream",
     "text": [
      "\n",
      "Missing values before handling:\n",
      "age               0\n",
      "job               0\n",
      "marital           0\n",
      "education         0\n",
      "default           0\n",
      "housing           0\n",
      "loan              0\n",
      "contact           0\n",
      "month             0\n",
      "day_of_week       0\n",
      "campaign          0\n",
      "pdays             0\n",
      "previous          0\n",
      "poutcome          0\n",
      "emp.var.rate      0\n",
      "cons.price.idx    0\n",
      "cons.conf.idx     0\n",
      "euribor3m         0\n",
      "nr.employed       0\n",
      "y                 0\n",
      "dtype: int64\n"
     ]
    }
   ],
   "source": [
    "print(\"\\nMissing values before handling:\")\n",
    "print(data.isnull().sum())"
   ]
  },
  {
   "cell_type": "code",
   "execution_count": 6,
   "metadata": {
    "id": "dv3mJiaNIUlA"
   },
   "outputs": [
    {
     "name": "stderr",
     "output_type": "stream",
     "text": [
      "C:\\Users\\ATHARVA\\AppData\\Local\\Temp\\ipykernel_13352\\1474580016.py:1: FutureWarning: The default value of numeric_only in DataFrame.mean is deprecated. In a future version, it will default to False. In addition, specifying 'numeric_only=None' is deprecated. Select only valid columns or specify the value of numeric_only to silence this warning.\n",
      "  data.fillna(data.mean(), inplace=True)\n"
     ]
    }
   ],
   "source": [
    "data.fillna(data.mean(), inplace=True)"
   ]
  },
  {
   "cell_type": "code",
   "execution_count": 7,
   "metadata": {
    "id": "EtQjF1rfIYOl"
   },
   "outputs": [],
   "source": [
    "label_encoder = LabelEncoder()"
   ]
  },
  {
   "cell_type": "code",
   "execution_count": 8,
   "metadata": {
    "id": "T96j8qCnIclg"
   },
   "outputs": [],
   "source": [
    "for column in data.columns:\n",
    "    if data[column].dtype == 'object':\n",
    "        data[column] = label_encoder.fit_transform(data[column])\n"
   ]
  },
  {
   "cell_type": "code",
   "execution_count": 9,
   "metadata": {
    "id": "GEYj0kGPGVCu"
   },
   "outputs": [],
   "source": [
    "X = data.drop(columns=['y'])\n",
    "y = data['y']"
   ]
  },
  {
   "cell_type": "code",
   "execution_count": 10,
   "metadata": {
    "id": "w8RQ85ZZHFad"
   },
   "outputs": [],
   "source": [
    "X_train, X_test, y_train, y_test = train_test_split(X, y, test_size=0.2, random_state=42)"
   ]
  },
  {
   "cell_type": "code",
   "execution_count": 11,
   "metadata": {
    "id": "aJhRHgNmGCoK"
   },
   "outputs": [],
   "source": [
    "imputer = SimpleImputer(strategy='mean')\n",
    "X_train_imputed = imputer.fit_transform(X_train)\n",
    "X_test_imputed = imputer.transform(X_test)"
   ]
  },
  {
   "cell_type": "code",
   "execution_count": 12,
   "metadata": {
    "id": "NySKNNhUHIdl"
   },
   "outputs": [],
   "source": [
    "scaler = StandardScaler()\n",
    "X_train_scaled = scaler.fit_transform(X_train_imputed)\n",
    "X_test_scaled = scaler.transform(X_test_imputed)\n"
   ]
  },
  {
   "cell_type": "code",
   "execution_count": 13,
   "metadata": {
    "colab": {
     "base_uri": "https://localhost:8080/"
    },
    "id": "eVIJKEBXHpfN",
    "outputId": "88fa2c2f-4198-481d-b91f-eeb0766d7262"
   },
   "outputs": [
    {
     "name": "stdout",
     "output_type": "stream",
     "text": [
      "\n",
      "Handling Missing Values:\n",
      "Number of missing values in each column:\n",
      "age               0\n",
      "job               0\n",
      "marital           0\n",
      "education         0\n",
      "default           0\n",
      "housing           0\n",
      "loan              0\n",
      "contact           0\n",
      "month             0\n",
      "day_of_week       0\n",
      "campaign          0\n",
      "pdays             0\n",
      "previous          0\n",
      "poutcome          0\n",
      "emp.var.rate      0\n",
      "cons.price.idx    0\n",
      "cons.conf.idx     0\n",
      "euribor3m         0\n",
      "nr.employed       0\n",
      "y                 0\n",
      "dtype: int64\n"
     ]
    }
   ],
   "source": [
    "print(\"\\nHandling Missing Values:\")\n",
    "print(\"Number of missing values in each column:\")\n",
    "print(data.isnull().sum())"
   ]
  },
  {
   "cell_type": "code",
   "execution_count": 14,
   "metadata": {
    "id": "EBIXN4VNHs9F"
   },
   "outputs": [],
   "source": [
    "data = data.dropna()"
   ]
  },
  {
   "cell_type": "code",
   "execution_count": 15,
   "metadata": {
    "colab": {
     "base_uri": "https://localhost:8080/"
    },
    "id": "abJewuesHyug",
    "outputId": "11659905-eeb9-41e4-8997-439727a11cc9"
   },
   "outputs": [
    {
     "name": "stdout",
     "output_type": "stream",
     "text": [
      "\n",
      "Cleaned Dataset Info:\n",
      "<class 'pandas.core.frame.DataFrame'>\n",
      "RangeIndex: 41188 entries, 0 to 41187\n",
      "Data columns (total 20 columns):\n",
      " #   Column          Non-Null Count  Dtype  \n",
      "---  ------          --------------  -----  \n",
      " 0   age             41188 non-null  int64  \n",
      " 1   job             41188 non-null  int32  \n",
      " 2   marital         41188 non-null  int32  \n",
      " 3   education       41188 non-null  int32  \n",
      " 4   default         41188 non-null  int32  \n",
      " 5   housing         41188 non-null  int32  \n",
      " 6   loan            41188 non-null  int32  \n",
      " 7   contact         41188 non-null  int32  \n",
      " 8   month           41188 non-null  int32  \n",
      " 9   day_of_week     41188 non-null  int32  \n",
      " 10  campaign        41188 non-null  int64  \n",
      " 11  pdays           41188 non-null  int64  \n",
      " 12  previous        41188 non-null  int64  \n",
      " 13  poutcome        41188 non-null  int32  \n",
      " 14  emp.var.rate    41188 non-null  float64\n",
      " 15  cons.price.idx  41188 non-null  float64\n",
      " 16  cons.conf.idx   41188 non-null  float64\n",
      " 17  euribor3m       41188 non-null  float64\n",
      " 18  nr.employed     41188 non-null  float64\n",
      " 19  y               41188 non-null  int32  \n",
      "dtypes: float64(5), int32(11), int64(4)\n",
      "memory usage: 4.6 MB\n",
      "None\n"
     ]
    }
   ],
   "source": [
    "print(\"\\nCleaned Dataset Info:\")\n",
    "print(data.info())"
   ]
  },
  {
   "cell_type": "code",
   "execution_count": 16,
   "metadata": {
    "colab": {
     "base_uri": "https://localhost:8080/"
    },
    "id": "0T8KTlkiI059",
    "outputId": "3bc9556a-3979-4888-fbf5-eafec640a015"
   },
   "outputs": [
    {
     "name": "stdout",
     "output_type": "stream",
     "text": [
      "Before Label Encoding:\n",
      "   age  job  marital  education  default  housing  loan  contact  month  \\\n",
      "0   56    3        1          0        0        0     0        1      6   \n",
      "1   57    7        1          3        1        0     0        1      6   \n",
      "2   37    7        1          3        0        2     0        1      6   \n",
      "3   40    0        1          1        0        0     0        1      6   \n",
      "4   56    7        1          3        0        0     2        1      6   \n",
      "\n",
      "   day_of_week  campaign  pdays  previous  poutcome  emp.var.rate  \\\n",
      "0            1         1    999         0         1           1.1   \n",
      "1            1         1    999         0         1           1.1   \n",
      "2            1         1    999         0         1           1.1   \n",
      "3            1         1    999         0         1           1.1   \n",
      "4            1         1    999         0         1           1.1   \n",
      "\n",
      "   cons.price.idx  cons.conf.idx  euribor3m  nr.employed  y  \n",
      "0          93.994          -36.4      4.857       5191.0  0  \n",
      "1          93.994          -36.4      4.857       5191.0  0  \n",
      "2          93.994          -36.4      4.857       5191.0  0  \n",
      "3          93.994          -36.4      4.857       5191.0  0  \n",
      "4          93.994          -36.4      4.857       5191.0  0  \n",
      "\n",
      "After Label Encoding:\n",
      "   age  job  marital  education  default  housing  loan  contact  month  \\\n",
      "0   56    3        1          0        0        0     0        1      6   \n",
      "1   57    7        1          3        1        0     0        1      6   \n",
      "2   37    7        1          3        0        2     0        1      6   \n",
      "3   40    0        1          1        0        0     0        1      6   \n",
      "4   56    7        1          3        0        0     2        1      6   \n",
      "\n",
      "   day_of_week  campaign  pdays  previous  poutcome  emp.var.rate  \\\n",
      "0            1         1    999         0         1           1.1   \n",
      "1            1         1    999         0         1           1.1   \n",
      "2            1         1    999         0         1           1.1   \n",
      "3            1         1    999         0         1           1.1   \n",
      "4            1         1    999         0         1           1.1   \n",
      "\n",
      "   cons.price.idx  cons.conf.idx  euribor3m  nr.employed  y  \n",
      "0          93.994          -36.4      4.857       5191.0  0  \n",
      "1          93.994          -36.4      4.857       5191.0  0  \n",
      "2          93.994          -36.4      4.857       5191.0  0  \n",
      "3          93.994          -36.4      4.857       5191.0  0  \n",
      "4          93.994          -36.4      4.857       5191.0  0  \n"
     ]
    }
   ],
   "source": [
    "print(\"Before Label Encoding:\")\n",
    "print(data.head())\n",
    "\n",
    "label_encoder = LabelEncoder()\n",
    "\n",
    "for column in data.columns:\n",
    "    if data[column].dtype == 'object':\n",
    "        data[column] = label_encoder.fit_transform(data[column])\n",
    "\n",
    "print(\"\\nAfter Label Encoding:\")\n",
    "print(data.head())"
   ]
  },
  {
   "cell_type": "code",
   "execution_count": 17,
   "metadata": {
    "id": "WKIe4QLnKwl0"
   },
   "outputs": [],
   "source": [
    "svm_classifier = SVC(kernel='linear', C=1.0)"
   ]
  },
  {
   "cell_type": "code",
   "execution_count": null,
   "metadata": {
    "colab": {
     "base_uri": "https://localhost:8080/",
     "height": 75
    },
    "id": "y1tv-aqAK2hd",
    "outputId": "5db36dd7-765c-469f-dffc-11349e653e89"
   },
   "outputs": [],
   "source": [
    "svm_classifier.fit(X_train_scaled, y_train)"
   ]
  },
  {
   "cell_type": "code",
   "execution_count": null,
   "metadata": {
    "id": "XXm4OtbRK5Ev"
   },
   "outputs": [],
   "source": [
    "y_pred = svm_classifier.predict(X_test_scaled)"
   ]
  },
  {
   "cell_type": "code",
   "execution_count": null,
   "metadata": {
    "colab": {
     "base_uri": "https://localhost:8080/"
    },
    "id": "hwogA9mUK73g",
    "outputId": "2c8f6d17-6f96-406a-cc0e-2e0cd318bfb2"
   },
   "outputs": [],
   "source": [
    "accuracy = accuracy_score(y_test, y_pred)\n",
    "print(\"Accuracy:\", accuracy)"
   ]
  },
  {
   "cell_type": "code",
   "execution_count": null,
   "metadata": {
    "colab": {
     "base_uri": "https://localhost:8080/"
    },
    "id": "kWBZejdvK-QY",
    "outputId": "8a00feb4-8fb9-4305-cf34-4a929ad616fc"
   },
   "outputs": [],
   "source": [
    "print(\"Classification Report:\")\n",
    "print(classification_report(y_test, y_pred))"
   ]
  },
  {
   "cell_type": "code",
   "execution_count": null,
   "metadata": {
    "colab": {
     "base_uri": "https://localhost:8080/"
    },
    "id": "vraLFjMtPaMe",
    "outputId": "2a6d7268-3d74-43c9-df1a-a93733921a6d"
   },
   "outputs": [],
   "source": [
    "conf_matrix = confusion_matrix(y_test, y_pred)\n",
    "print(\"Confusion Matrix:\")\n",
    "print(conf_matrix)"
   ]
  },
  {
   "cell_type": "code",
   "execution_count": null,
   "metadata": {
    "colab": {
     "base_uri": "https://localhost:8080/"
    },
    "id": "lnqZCLjLJN36",
    "outputId": "356f122e-69fa-4c07-8422-3e6fcf9de404"
   },
   "outputs": [],
   "source": [
    "y_scores = svm_classifier.decision_function(X_test)"
   ]
  },
  {
   "cell_type": "code",
   "execution_count": null,
   "metadata": {
    "colab": {
     "base_uri": "https://localhost:8080/",
     "height": 293
    },
    "id": "4moHDzpIJrL8",
    "outputId": "ec78ec6a-89be-4999-b6a8-b093bd96ecac"
   },
   "outputs": [],
   "source": [
    "fpr, tpr, thresholds = roc_curve(y_test, y_scores)\n"
   ]
  },
  {
   "cell_type": "code",
   "execution_count": null,
   "metadata": {},
   "outputs": [],
   "source": []
  }
 ],
 "metadata": {
  "accelerator": "GPU",
  "colab": {
   "gpuType": "T4",
   "provenance": []
  },
  "kernelspec": {
   "display_name": "Python 3 (ipykernel)",
   "language": "python",
   "name": "python3"
  },
  "language_info": {
   "codemirror_mode": {
    "name": "ipython",
    "version": 3
   },
   "file_extension": ".py",
   "mimetype": "text/x-python",
   "name": "python",
   "nbconvert_exporter": "python",
   "pygments_lexer": "ipython3",
   "version": "3.9.13"
  }
 },
 "nbformat": 4,
 "nbformat_minor": 1
}
